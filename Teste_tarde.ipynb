{
  "nbformat": 4,
  "nbformat_minor": 0,
  "metadata": {
    "colab": {
      "provenance": [],
      "authorship_tag": "ABX9TyPkkbEO131m/Ffo6EKOQyzV",
      "include_colab_link": true
    },
    "kernelspec": {
      "name": "python3",
      "display_name": "Python 3"
    },
    "language_info": {
      "name": "python"
    }
  },
  "cells": [
    {
      "cell_type": "markdown",
      "metadata": {
        "id": "view-in-github",
        "colab_type": "text"
      },
      "source": [
        "<a href=\"https://colab.research.google.com/github/paranaero/dobootcamp/blob/main/Teste_tarde.ipynb\" target=\"_parent\"><img src=\"https://colab.research.google.com/assets/colab-badge.svg\" alt=\"Open In Colab\"/></a>"
      ]
    },
    {
      "cell_type": "code",
      "execution_count": null,
      "metadata": {
        "colab": {
          "base_uri": "https://localhost:8080/"
        },
        "id": "p2mHSyRgFy4n",
        "outputId": "90ada162-03e8-4fa1-98b9-d00bc04e780b"
      },
      "outputs": [
        {
          "output_type": "stream",
          "name": "stdout",
          "text": [
            "Olá pessoal da tarde!\n"
          ]
        }
      ],
      "source": [
        "print('Olá pessoal da tarde!')"
      ]
    },
    {
      "cell_type": "code",
      "source": [
        "print('teste')"
      ],
      "metadata": {
        "id": "SYfyEZwfF_YG"
      },
      "execution_count": null,
      "outputs": []
    }
  ]
}